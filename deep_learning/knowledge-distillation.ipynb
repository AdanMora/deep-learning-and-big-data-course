{
 "cells": [
  {
   "cell_type": "code",
   "execution_count": 7,
   "id": "65c8b54f",
   "metadata": {},
   "outputs": [],
   "source": [
    "import torch\n",
    "import torch.nn as nn\n",
    "import torch.nn.functional as F\n",
    "import torch.optim as optim\n",
    "from torchvision import datasets, transforms, models\n",
    "from torch.utils.data import DataLoader, Subset\n",
    "import matplotlib.pyplot as plt\n",
    "import random"
   ]
  },
  {
   "cell_type": "markdown",
   "id": "d597aa28",
   "metadata": {},
   "source": [
    "# Using CIFAR-10"
   ]
  },
  {
   "cell_type": "code",
   "execution_count": 15,
   "id": "9db2a38c",
   "metadata": {},
   "outputs": [],
   "source": [
    "transform_train = transforms.Compose([\n",
    "    transforms.Resize(224),  # ResNet input size\n",
    "    transforms.ToTensor()\n",
    "])\n",
    "transform_test = transforms.Compose([\n",
    "    transforms.Resize(224),\n",
    "    transforms.ToTensor()\n",
    "])\n",
    "\n",
    "# Load full training dataset\n",
    "full_train_dataset = datasets.CIFAR10(root='./data/', train=True, download=True, transform=transform_train)\n",
    "full_test_dataset = datasets.CIFAR10(root='./data/', train=False, download=True, transform=transform_train)\n",
    "\n",
    "# Create a subset with 10% of the training data\n",
    "subset_size = int(0.1 * len(full_train_dataset))\n",
    "indices = random.sample(range(len(full_train_dataset)), subset_size)\n",
    "train_subset = Subset(full_train_dataset, indices)\n",
    "\n",
    "train_loader = DataLoader(\n",
    "    train_subset,\n",
    "    batch_size=64, shuffle=True\n",
    ")\n",
    "\n",
    "# Create a subset with 20% of the test data\n",
    "subset_size = int(0.2 * len(full_test_dataset))\n",
    "indices = random.sample(range(len(full_test_dataset)), subset_size)\n",
    "test_subset = Subset(full_test_dataset, indices)\n",
    "\n",
    "test_loader = DataLoader(\n",
    "    test_subset,\n",
    "    batch_size=256, shuffle=False\n",
    ")"
   ]
  },
  {
   "cell_type": "code",
   "execution_count": 16,
   "id": "3952b405",
   "metadata": {},
   "outputs": [
    {
     "data": {
      "text/plain": [
       "(2000, 5000)"
      ]
     },
     "execution_count": 16,
     "metadata": {},
     "output_type": "execute_result"
    }
   ],
   "source": [
    "len(test_loader.dataset), len(train_loader.dataset)"
   ]
  },
  {
   "cell_type": "markdown",
   "id": "99156b8a",
   "metadata": {},
   "source": [
    "# Teacher Model - Resnet 18"
   ]
  },
  {
   "cell_type": "code",
   "execution_count": 10,
   "id": "8be2da53",
   "metadata": {},
   "outputs": [
    {
     "name": "stderr",
     "output_type": "stream",
     "text": [
      "/Users/adan.mora/Desktop/code/university/deep-learning-and-big-data-course/venv/lib/python3.13/site-packages/torchvision/models/_utils.py:208: UserWarning: The parameter 'pretrained' is deprecated since 0.13 and may be removed in the future, please use 'weights' instead.\n",
      "  warnings.warn(\n",
      "/Users/adan.mora/Desktop/code/university/deep-learning-and-big-data-course/venv/lib/python3.13/site-packages/torchvision/models/_utils.py:223: UserWarning: Arguments other than a weight enum or `None` for 'weights' are deprecated since 0.13 and may be removed in the future. The current behavior is equivalent to passing `weights=ResNet18_Weights.IMAGENET1K_V1`. You can also use `weights=ResNet18_Weights.DEFAULT` to get the most up-to-date weights.\n",
      "  warnings.warn(msg)\n"
     ]
    },
    {
     "name": "stdout",
     "output_type": "stream",
     "text": [
      "Teacher accuracy: 0.6941\n"
     ]
    }
   ],
   "source": [
    "# Teacher: ResNet18\n",
    "teacher = models.resnet18(pretrained=True)\n",
    "\n",
    "num_ftrs = teacher.fc.in_features\n",
    "teacher.fc = torch.nn.Linear(num_ftrs, 10)  # For CIFAR-10\n",
    "\n",
    "optimizer_t = optim.Adam(teacher.parameters(), lr=0.001)\n",
    "for epoch in range(1):  # 1 epoch just to have a semi-trained teacher\n",
    "    teacher.train()\n",
    "    for imgs, labels in train_loader:\n",
    "        optimizer_t.zero_grad()\n",
    "        loss = F.cross_entropy(teacher(imgs), labels)\n",
    "        loss.backward()\n",
    "        optimizer_t.step()\n",
    "\n",
    "# Teacher accuracy\n",
    "def accuracy(model):\n",
    "    model.eval()\n",
    "    correct, total = 0, 0\n",
    "    with torch.no_grad():\n",
    "        for imgs, labels in test_loader:\n",
    "            preds = model(imgs).argmax(1)\n",
    "            correct += (preds == labels).sum().item()\n",
    "            total += labels.size(0)\n",
    "    return correct / total\n",
    "\n",
    "print(\"Teacher accuracy:\", accuracy(teacher))"
   ]
  },
  {
   "cell_type": "code",
   "execution_count": null,
   "id": "2465c56d",
   "metadata": {},
   "outputs": [],
   "source": [
    "# Save Teacher state\n",
    "torch.save(teacher.state_dict(), f\"./data/resnet18_teacher_state_one_epoch.pth\")\n",
    "\n",
    "# Shared in Drive folder: https://drive.google.com/drive/folders/1ZbYJft8q1wVr74rCDuIUuBA_oB-QUBvo?usp=drive_link"
   ]
  },
  {
   "cell_type": "code",
   "execution_count": null,
   "id": "f2787e5d",
   "metadata": {},
   "outputs": [],
   "source": [
    "# Load Teacher state\n",
    "\n",
    "model = models.resnet18(pretrained=True)\n",
    "\n",
    "num_ftrs = model.fc.in_features\n",
    "model.fc = torch.nn.Linear(num_ftrs, 10)\n",
    "\n",
    "model.load_state_dict(torch.load(\"./data/resnet18_teacher_state_one_epoch.pth\", weights_only=True, map_location=torch.device('cpu')))\n",
    "model.eval()"
   ]
  },
  {
   "cell_type": "markdown",
   "id": "b1e0cb5e",
   "metadata": {},
   "source": [
    "# Tiny Student model"
   ]
  },
  {
   "cell_type": "code",
   "execution_count": 25,
   "id": "fe3e7141",
   "metadata": {},
   "outputs": [],
   "source": [
    "# class TinyCNN(nn.Module):\n",
    "#     def __init__(self):\n",
    "#         super().__init__()\n",
    "#         self.conv1 = nn.Conv2d(3, 16, 3, padding=1)\n",
    "#         self.conv2 = nn.Conv2d(16, 32, 3, padding=1)\n",
    "#         self.fc1 = nn.Linear(32 * 56 * 56, 64)\n",
    "#         self.fc2 = nn.Linear(64, 10)\n",
    "\n",
    "#     def forward(self, x):\n",
    "#         x = F.relu(self.conv1(x))\n",
    "#         x = F.max_pool2d(x, 2)\n",
    "#         x = F.relu(self.conv2(x))\n",
    "#         x = F.max_pool2d(x, 2)\n",
    "#         x = torch.flatten(x, 1)\n",
    "#         x = F.relu(self.fc1(x))\n",
    "#         return self.fc2(x)\n",
    "    \n",
    "class TinyCNN(nn.Module):\n",
    "    def __init__(self):\n",
    "        super(TinyCNN, self).__init__()\n",
    "        self.conv_layer = nn.Sequential(\n",
    "            nn.Conv2d(3, 32, kernel_size=3, padding=1),\n",
    "            nn.ReLU(),\n",
    "            nn.MaxPool2d(2, 2),\n",
    "\n",
    "            nn.Conv2d(32, 64, kernel_size=3, padding=1),\n",
    "            nn.ReLU(),\n",
    "            nn.MaxPool2d(2, 2)\n",
    "        )\n",
    "        self.fc_layer = nn.Sequential(\n",
    "            nn.Flatten(),\n",
    "            nn.Linear(200704, 256),\n",
    "            nn.ReLU(),\n",
    "            nn.Linear(256, 10)\n",
    "        )\n",
    "\n",
    "    def forward(self, x):\n",
    "        x = self.conv_layer(x)\n",
    "        x = self.fc_layer(x)\n",
    "        return x"
   ]
  },
  {
   "cell_type": "markdown",
   "id": "b2a476d9",
   "metadata": {},
   "source": [
    "# Distillation Loss"
   ]
  },
  {
   "cell_type": "code",
   "execution_count": null,
   "id": "d30eb6aa",
   "metadata": {},
   "outputs": [],
   "source": [
    "def distillation_loss(student_logits, teacher_logits, labels, T, alpha):\n",
    "    hard_loss = F.cross_entropy(student_logits, labels)\n",
    "    soft_loss = F.kl_div(\n",
    "        F.softmax(student_logits / T, dim=1),\n",
    "        F.softmax(teacher_logits / T, dim=1),\n",
    "        reduction='batchmean'\n",
    "    ) * (T * T)                 # We multiply the KL loss by T^2 to keep gradient magnitudes balanced after scaling.\n",
    "    return alpha * soft_loss + (1 - alpha) * hard_loss"
   ]
  },
  {
   "cell_type": "markdown",
   "id": "9b9869bb",
   "metadata": {},
   "source": [
    "# Training Student using the Distillation process"
   ]
  },
  {
   "cell_type": "code",
   "execution_count": null,
   "id": "3fe13988",
   "metadata": {},
   "outputs": [
    {
     "name": "stdout",
     "output_type": "stream",
     "text": [
      "Epoch 1: Student Acc=0.261, KL Dist=0.2096\n",
      "Epoch 2: Student Acc=0.339, KL Dist=0.1853\n",
      "Epoch 3: Student Acc=0.363, KL Dist=0.1803\n",
      "Epoch 4: Student Acc=0.365, KL Dist=0.1694\n",
      "Epoch 5: Student Acc=0.390, KL Dist=0.1679\n"
     ]
    }
   ],
   "source": [
    "student = TinyCNN()\n",
    "optimizer_s = optim.Adam(student.parameters(), lr=0.001)\n",
    "T = 4.0\n",
    "alpha = 0.7\n",
    "\n",
    "student_acc_list = []\n",
    "teacher_acc_list = []\n",
    "kl_distance_list = []\n",
    "\n",
    "for epoch in range(5):\n",
    "    student.train()\n",
    "    for imgs, labels in train_loader:\n",
    "        with torch.no_grad():\n",
    "            teacher_logits = teacher(imgs)\n",
    "\n",
    "        student_logits = student(imgs)\n",
    "        loss = distillation_loss(student_logits, teacher_logits, labels, T, alpha)\n",
    "\n",
    "        optimizer_s.zero_grad()\n",
    "        loss.backward()\n",
    "        optimizer_s.step()\n",
    "\n",
    "    # Track metrics\n",
    "    student_acc = accuracy(student)\n",
    "    teacher_acc = accuracy(teacher)\n",
    "    student_acc_list.append(student_acc)\n",
    "    teacher_acc_list.append(teacher_acc)\n",
    "\n",
    "    # KL divergence measure\n",
    "    kl_total = 0\n",
    "    with torch.no_grad():\n",
    "        for imgs, _ in test_loader:\n",
    "            st_logits = student(imgs)\n",
    "            tc_logits = teacher(imgs)\n",
    "            kl_total += F.kl_div(\n",
    "                F.log_softmax(st_logits / T, dim=1),\n",
    "                F.softmax(tc_logits / T, dim=1),\n",
    "                reduction='batchmean'\n",
    "            ).item()\n",
    "    kl_distance_list.append(kl_total / len(test_loader))\n",
    "\n",
    "    print(f\"Epoch {epoch+1}: Student Acc={student_acc:.3f}, KL Dist={kl_distance_list[-1]:.4f}\")"
   ]
  },
  {
   "cell_type": "markdown",
   "id": "cd0ca3c1",
   "metadata": {},
   "source": [
    "# Evaluation results"
   ]
  },
  {
   "cell_type": "code",
   "execution_count": 28,
   "id": "9fa238b5",
   "metadata": {},
   "outputs": [
    {
     "data": {
      "image/png": "[encoded data removed]",
      "text/plain": [
       "<Figure size 1200x500 with 2 Axes>"
      ]
     },
     "metadata": {},
     "output_type": "display_data"
    }
   ],
   "source": [
    "\n",
    "\n",
    "# ----- 6. Plot -----\n",
    "plt.figure(figsize=(12,5))\n",
    "\n",
    "plt.subplot(1,2,1)\n",
    "plt.plot(student_acc_list, label='Student Accuracy')\n",
    "plt.plot(teacher_acc_list, label='Teacher Accuracy', linestyle='--')\n",
    "plt.xlabel('Epoch')\n",
    "plt.ylabel('Accuracy')\n",
    "plt.title('Teacher vs Student Accuracy')\n",
    "plt.legend()\n",
    "\n",
    "plt.subplot(1,2,2)\n",
    "plt.plot(kl_distance_list, label='KL Divergence')\n",
    "plt.xlabel('Epoch')\n",
    "plt.ylabel('KL Distance')\n",
    "plt.title('Student Predictions Closer to Teacher')\n",
    "plt.legend()\n",
    "\n",
    "plt.show()\n"
   ]
  },
  {
   "cell_type": "code",
   "execution_count": null,
   "id": "e70e1cc8",
   "metadata": {},
   "outputs": [],
   "source": []
  }
 ],
 "metadata": {
  "kernelspec": {
   "display_name": "venv",
   "language": "python",
   "name": "python3"
  },
  "language_info": {
   "codemirror_mode": {
    "name": "ipython",
    "version": 3
   },
   "file_extension": ".py",
   "mimetype": "text/x-python",
   "name": "python",
   "nbconvert_exporter": "python",
   "pygments_lexer": "ipython3",
   "version": "3.13.3"
  }
 },
 "nbformat": 4,
 "nbformat_minor": 5
}
