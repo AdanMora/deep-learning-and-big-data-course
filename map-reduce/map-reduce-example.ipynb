{
 "cells": [
  {
   "cell_type": "markdown",
   "id": "8cf33177",
   "metadata": {},
   "source": [
    "# Map Reduce example using PySpark"
   ]
  },
  {
   "cell_type": "markdown",
   "id": "b8ea54e5",
   "metadata": {},
   "source": [
    "## Sample JSON data file"
   ]
  },
  {
   "cell_type": "code",
   "execution_count": null,
   "id": "745918eb",
   "metadata": {},
   "outputs": [],
   "source": [
    "import json\n",
    "import random\n",
    "\n",
    "actions = ['click', 'view', 'purchase']\n",
    "user_ids = list(range(1, 21))  # 20 users\n",
    "item_ids = [str(i) for i in range(100, 200)]\n",
    "\n",
    "with open(\"user_logs.json\", \"w\") as f:\n",
    "    for _ in range(500):\n",
    "        record = {\n",
    "            \"user_id\": random.choice(user_ids),\n",
    "            \"timestamp\": \"2024-06-01T10:00:00Z\",\n",
    "            \"action\": random.choice(actions),\n",
    "            \"item_id\": random.choice(item_ids)\n",
    "        }\n",
    "        json.dump(record, f)\n",
    "        f.write(\"\\n\")\n"
   ]
  },
  {
   "cell_type": "markdown",
   "id": "86de066f",
   "metadata": {},
   "source": [
    "## 1. Load Data"
   ]
  },
  {
   "cell_type": "code",
   "execution_count": null,
   "id": "e9e7febd",
   "metadata": {},
   "outputs": [],
   "source": [
    "import pandas as pd\n",
    "import numpy as np\n",
    "from collections import Counter\n",
    "import json\n",
    "\n",
    "df = pd.read_json(\"user_logs.json\", lines=True)"
   ]
  },
  {
   "cell_type": "markdown",
   "id": "97be6300",
   "metadata": {},
   "source": [
    "## 2. Map Phase"
   ]
  },
  {
   "cell_type": "code",
   "execution_count": null,
   "id": "caa584df",
   "metadata": {},
   "outputs": [],
   "source": [
    "## Map Phase\n",
    "\n",
    "mapped = df[['user_id', 'action', 'item_id']].values.tolist()\n",
    "mapped_pairs = [(user, (action, item)) for user, action, item in mapped]\n",
    "mapped_pairs"
   ]
  },
  {
   "cell_type": "markdown",
   "id": "a246ef02",
   "metadata": {},
   "source": [
    "## 3. Shuffle phase"
   ]
  },
  {
   "cell_type": "code",
   "execution_count": null,
   "id": "409f75b6",
   "metadata": {},
   "outputs": [],
   "source": [
    "# Shuffle the mapped pairs\n",
    "\n",
    "from collections import defaultdict\n",
    "\n",
    "shuffled = defaultdict(list)\n",
    "for user_id, value in mapped_pairs:\n",
    "    shuffled[user_id].append(value)\n",
    "\n",
    "shuffled"
   ]
  },
  {
   "cell_type": "markdown",
   "id": "49c4c828",
   "metadata": {},
   "source": [
    "## 4. Reduce Phase"
   ]
  },
  {
   "cell_type": "code",
   "execution_count": null,
   "id": "cf2b526a",
   "metadata": {},
   "outputs": [],
   "source": [
    "# Reduce Phase\n",
    "\n",
    "results = {}\n",
    "\n",
    "for user_id, values in shuffled.items():\n",
    "    actions = [a for a, _ in values]\n",
    "    items = [i for _, i in values]\n",
    "    \n",
    "    total_actions = len(actions)\n",
    "    most_common_action = Counter(actions).most_common(1)[0][0]\n",
    "    unique_items = len(set(items))\n",
    "    \n",
    "    results[user_id] = {\n",
    "        \"total_actions\": total_actions,\n",
    "        \"most_common_action\": most_common_action,\n",
    "        \"unique_items\": unique_items\n",
    "    }\n",
    "    \n",
    "results"
   ]
  },
  {
   "cell_type": "code",
   "execution_count": null,
   "id": "318f1432",
   "metadata": {},
   "outputs": [],
   "source": [
    "summary_df = pd.DataFrame.from_dict(results, orient='index')\n",
    "print(summary_df)"
   ]
  },
  {
   "cell_type": "code",
   "execution_count": null,
   "id": "79cde193",
   "metadata": {},
   "outputs": [],
   "source": []
  }
 ],
 "metadata": {
  "kernelspec": {
   "display_name": "venv",
   "language": "python",
   "name": "python3"
  },
  "language_info": {
   "codemirror_mode": {
    "name": "ipython",
    "version": 3
   },
   "file_extension": ".py",
   "mimetype": "text/x-python",
   "name": "python",
   "nbconvert_exporter": "python",
   "pygments_lexer": "ipython3",
   "version": "3.13.3"
  }
 },
 "nbformat": 4,
 "nbformat_minor": 5
}
